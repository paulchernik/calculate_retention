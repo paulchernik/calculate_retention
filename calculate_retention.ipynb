{
 "cells": [
  {
   "cell_type": "code",
   "execution_count": 1,
   "id": "2d4e6183",
   "metadata": {},
   "outputs": [],
   "source": [
    "import pandas as pd\n",
    "import matplotlib.pyplot as plt"
   ]
  },
  {
   "cell_type": "code",
   "execution_count": 2,
   "id": "d380d547",
   "metadata": {},
   "outputs": [],
   "source": [
    "reg_data_df = pd.read_csv('/Users/pavel/Documents/Study/Карпов Курс/jupyter-p-chernik/shared/problem1-reg_data.csv')\n",
    "auth_data_df = pd.read_csv('/Users/pavel/Documents/Study/Карпов Курс/jupyter-p-chernik/shared/problem1-auth_data.csv')"
   ]
  },
  {
   "cell_type": "code",
   "execution_count": 3,
   "id": "ce3a0909",
   "metadata": {},
   "outputs": [
    {
     "name": "stdout",
     "output_type": "stream",
     "text": [
      "<class 'pandas.core.frame.DataFrame'>\n",
      "RangeIndex: 1000000 entries, 0 to 999999\n",
      "Data columns (total 1 columns):\n",
      " #   Column      Non-Null Count    Dtype \n",
      "---  ------      --------------    ----- \n",
      " 0   reg_ts;uid  1000000 non-null  object\n",
      "dtypes: object(1)\n",
      "memory usage: 7.6+ MB\n"
     ]
    }
   ],
   "source": [
    "reg_data_df.info()"
   ]
  },
  {
   "cell_type": "code",
   "execution_count": 4,
   "id": "d93f0e21",
   "metadata": {},
   "outputs": [
    {
     "name": "stdout",
     "output_type": "stream",
     "text": [
      "<class 'pandas.core.frame.DataFrame'>\n",
      "RangeIndex: 9601013 entries, 0 to 9601012\n",
      "Data columns (total 1 columns):\n",
      " #   Column       Dtype \n",
      "---  ------       ----- \n",
      " 0   auth_ts;uid  object\n",
      "dtypes: object(1)\n",
      "memory usage: 73.3+ MB\n"
     ]
    }
   ],
   "source": [
    "auth_data_df.info()"
   ]
  },
  {
   "cell_type": "code",
   "execution_count": 5,
   "id": "d9c37515",
   "metadata": {},
   "outputs": [],
   "source": [
    "# Разделяем столбец 'reg_ts;uid' на два столбца 'reg_ts', 'uid' и удаляем его.\n",
    "\n",
    "reg_data_df[['reg_ts', 'uid']] = reg_data_df['reg_ts;uid'].str.split(';', expand=True)\n",
    "reg_data_df = reg_data_df.drop(columns=['reg_ts;uid'])"
   ]
  },
  {
   "cell_type": "code",
   "execution_count": 6,
   "id": "8126715e",
   "metadata": {},
   "outputs": [],
   "source": [
    "# Разделяем столбец 'auth_ts;uid' на два столбца 'auth_ts', 'uid' и удаляем его.\n",
    "\n",
    "auth_data_df[['auth_ts', 'uid']] = auth_data_df['auth_ts;uid'].str.split(';', expand=True)\n",
    "auth_data_df = auth_data_df.drop(columns=['auth_ts;uid'])"
   ]
  },
  {
   "cell_type": "code",
   "execution_count": 7,
   "id": "0031b607",
   "metadata": {},
   "outputs": [
    {
     "data": {
      "text/html": [
       "<div>\n",
       "<style scoped>\n",
       "    .dataframe tbody tr th:only-of-type {\n",
       "        vertical-align: middle;\n",
       "    }\n",
       "\n",
       "    .dataframe tbody tr th {\n",
       "        vertical-align: top;\n",
       "    }\n",
       "\n",
       "    .dataframe thead th {\n",
       "        text-align: right;\n",
       "    }\n",
       "</style>\n",
       "<table border=\"1\" class=\"dataframe\">\n",
       "  <thead>\n",
       "    <tr style=\"text-align: right;\">\n",
       "      <th></th>\n",
       "      <th>reg_ts</th>\n",
       "      <th>uid</th>\n",
       "    </tr>\n",
       "  </thead>\n",
       "  <tbody>\n",
       "    <tr>\n",
       "      <th>0</th>\n",
       "      <td>911382223</td>\n",
       "      <td>1</td>\n",
       "    </tr>\n",
       "    <tr>\n",
       "      <th>1</th>\n",
       "      <td>932683089</td>\n",
       "      <td>2</td>\n",
       "    </tr>\n",
       "    <tr>\n",
       "      <th>2</th>\n",
       "      <td>947802447</td>\n",
       "      <td>3</td>\n",
       "    </tr>\n",
       "    <tr>\n",
       "      <th>3</th>\n",
       "      <td>959523541</td>\n",
       "      <td>4</td>\n",
       "    </tr>\n",
       "    <tr>\n",
       "      <th>4</th>\n",
       "      <td>969103313</td>\n",
       "      <td>5</td>\n",
       "    </tr>\n",
       "  </tbody>\n",
       "</table>\n",
       "</div>"
      ],
      "text/plain": [
       "      reg_ts uid\n",
       "0  911382223   1\n",
       "1  932683089   2\n",
       "2  947802447   3\n",
       "3  959523541   4\n",
       "4  969103313   5"
      ]
     },
     "execution_count": 7,
     "metadata": {},
     "output_type": "execute_result"
    }
   ],
   "source": [
    "reg_data_df.head()"
   ]
  },
  {
   "cell_type": "code",
   "execution_count": 8,
   "id": "a4053984",
   "metadata": {},
   "outputs": [
    {
     "data": {
      "text/html": [
       "<div>\n",
       "<style scoped>\n",
       "    .dataframe tbody tr th:only-of-type {\n",
       "        vertical-align: middle;\n",
       "    }\n",
       "\n",
       "    .dataframe tbody tr th {\n",
       "        vertical-align: top;\n",
       "    }\n",
       "\n",
       "    .dataframe thead th {\n",
       "        text-align: right;\n",
       "    }\n",
       "</style>\n",
       "<table border=\"1\" class=\"dataframe\">\n",
       "  <thead>\n",
       "    <tr style=\"text-align: right;\">\n",
       "      <th></th>\n",
       "      <th>auth_ts</th>\n",
       "      <th>uid</th>\n",
       "    </tr>\n",
       "  </thead>\n",
       "  <tbody>\n",
       "    <tr>\n",
       "      <th>0</th>\n",
       "      <td>911382223</td>\n",
       "      <td>1</td>\n",
       "    </tr>\n",
       "    <tr>\n",
       "      <th>1</th>\n",
       "      <td>932683089</td>\n",
       "      <td>2</td>\n",
       "    </tr>\n",
       "    <tr>\n",
       "      <th>2</th>\n",
       "      <td>932921206</td>\n",
       "      <td>2</td>\n",
       "    </tr>\n",
       "    <tr>\n",
       "      <th>3</th>\n",
       "      <td>933393015</td>\n",
       "      <td>2</td>\n",
       "    </tr>\n",
       "    <tr>\n",
       "      <th>4</th>\n",
       "      <td>933875379</td>\n",
       "      <td>2</td>\n",
       "    </tr>\n",
       "  </tbody>\n",
       "</table>\n",
       "</div>"
      ],
      "text/plain": [
       "     auth_ts uid\n",
       "0  911382223   1\n",
       "1  932683089   2\n",
       "2  932921206   2\n",
       "3  933393015   2\n",
       "4  933875379   2"
      ]
     },
     "execution_count": 8,
     "metadata": {},
     "output_type": "execute_result"
    }
   ],
   "source": [
    "auth_data_df.head()"
   ]
  },
  {
   "cell_type": "code",
   "execution_count": 9,
   "id": "4b09f985",
   "metadata": {},
   "outputs": [
    {
     "data": {
      "text/plain": [
       "reg_ts    0\n",
       "uid       0\n",
       "dtype: int64"
      ]
     },
     "execution_count": 9,
     "metadata": {},
     "output_type": "execute_result"
    }
   ],
   "source": [
    "# Подсчитываем нулевые значения\n",
    "\n",
    "reg_data_df.isnull().sum()"
   ]
  },
  {
   "cell_type": "code",
   "execution_count": 10,
   "id": "48be990b",
   "metadata": {},
   "outputs": [
    {
     "data": {
      "text/plain": [
       "auth_ts    0\n",
       "uid        0\n",
       "dtype: int64"
      ]
     },
     "execution_count": 10,
     "metadata": {},
     "output_type": "execute_result"
    }
   ],
   "source": [
    "# Подсчитываем нулевые значения\n",
    "\n",
    "auth_data_df.isnull().sum()"
   ]
  },
  {
   "cell_type": "code",
   "execution_count": 11,
   "id": "5dd15b28",
   "metadata": {},
   "outputs": [
    {
     "data": {
      "text/plain": [
       "reg_ts    0\n",
       "uid       0\n",
       "dtype: int64"
      ]
     },
     "execution_count": 11,
     "metadata": {},
     "output_type": "execute_result"
    }
   ],
   "source": [
    "# Подсчитываем пропущенные значения\n",
    "\n",
    "reg_data_df.isna().sum()"
   ]
  },
  {
   "cell_type": "code",
   "execution_count": 12,
   "id": "6af8e5e0",
   "metadata": {},
   "outputs": [
    {
     "data": {
      "text/plain": [
       "auth_ts    0\n",
       "uid        0\n",
       "dtype: int64"
      ]
     },
     "execution_count": 12,
     "metadata": {},
     "output_type": "execute_result"
    }
   ],
   "source": [
    "# Подсчитываем пропущенные значения\n",
    "\n",
    "auth_data_df.isna().sum()"
   ]
  },
  {
   "cell_type": "code",
   "execution_count": 13,
   "id": "8029a58a",
   "metadata": {},
   "outputs": [],
   "source": [
    "# Преобразовываем значения из Unix в формат даты \n",
    "\n",
    "reg_data_df['reg_ts'] = pd.to_datetime(reg_data_df['reg_ts'], unit='s').dt.floor('d')\n",
    "auth_data_df['auth_ts'] = pd.to_datetime(auth_data_df['auth_ts'], unit='s').dt.floor('d')"
   ]
  },
  {
   "cell_type": "code",
   "execution_count": 14,
   "id": "11e6f8f2",
   "metadata": {},
   "outputs": [
    {
     "data": {
      "text/plain": [
       "reg_ts    datetime64[ns]\n",
       "uid               object\n",
       "dtype: object"
      ]
     },
     "execution_count": 14,
     "metadata": {},
     "output_type": "execute_result"
    }
   ],
   "source": [
    "reg_data_df.dtypes"
   ]
  },
  {
   "cell_type": "code",
   "execution_count": 15,
   "id": "ddfcf2cf",
   "metadata": {},
   "outputs": [
    {
     "data": {
      "text/plain": [
       "auth_ts    datetime64[ns]\n",
       "uid                object\n",
       "dtype: object"
      ]
     },
     "execution_count": 15,
     "metadata": {},
     "output_type": "execute_result"
    }
   ],
   "source": [
    "auth_data_df.dtypes"
   ]
  },
  {
   "cell_type": "code",
   "execution_count": 16,
   "id": "9581ba92",
   "metadata": {},
   "outputs": [],
   "source": [
    "# Объединяем датафреймы в один\n",
    "\n",
    "data = reg_data_df.merge(auth_data_df, on='uid')"
   ]
  },
  {
   "cell_type": "code",
   "execution_count": 17,
   "id": "98753dd8",
   "metadata": {},
   "outputs": [
    {
     "data": {
      "text/html": [
       "<div>\n",
       "<style scoped>\n",
       "    .dataframe tbody tr th:only-of-type {\n",
       "        vertical-align: middle;\n",
       "    }\n",
       "\n",
       "    .dataframe tbody tr th {\n",
       "        vertical-align: top;\n",
       "    }\n",
       "\n",
       "    .dataframe thead th {\n",
       "        text-align: right;\n",
       "    }\n",
       "</style>\n",
       "<table border=\"1\" class=\"dataframe\">\n",
       "  <thead>\n",
       "    <tr style=\"text-align: right;\">\n",
       "      <th></th>\n",
       "      <th>reg_ts</th>\n",
       "      <th>uid</th>\n",
       "      <th>auth_ts</th>\n",
       "    </tr>\n",
       "  </thead>\n",
       "  <tbody>\n",
       "    <tr>\n",
       "      <th>0</th>\n",
       "      <td>1998-11-18</td>\n",
       "      <td>1</td>\n",
       "      <td>1998-11-18</td>\n",
       "    </tr>\n",
       "    <tr>\n",
       "      <th>1</th>\n",
       "      <td>1999-07-22</td>\n",
       "      <td>2</td>\n",
       "      <td>1999-07-22</td>\n",
       "    </tr>\n",
       "    <tr>\n",
       "      <th>2</th>\n",
       "      <td>1999-07-22</td>\n",
       "      <td>2</td>\n",
       "      <td>1999-07-25</td>\n",
       "    </tr>\n",
       "    <tr>\n",
       "      <th>3</th>\n",
       "      <td>1999-07-22</td>\n",
       "      <td>2</td>\n",
       "      <td>1999-07-31</td>\n",
       "    </tr>\n",
       "    <tr>\n",
       "      <th>4</th>\n",
       "      <td>1999-07-22</td>\n",
       "      <td>2</td>\n",
       "      <td>1999-08-05</td>\n",
       "    </tr>\n",
       "  </tbody>\n",
       "</table>\n",
       "</div>"
      ],
      "text/plain": [
       "      reg_ts uid    auth_ts\n",
       "0 1998-11-18   1 1998-11-18\n",
       "1 1999-07-22   2 1999-07-22\n",
       "2 1999-07-22   2 1999-07-25\n",
       "3 1999-07-22   2 1999-07-31\n",
       "4 1999-07-22   2 1999-08-05"
      ]
     },
     "execution_count": 17,
     "metadata": {},
     "output_type": "execute_result"
    }
   ],
   "source": [
    "data.head()"
   ]
  },
  {
   "cell_type": "code",
   "execution_count": 18,
   "id": "7c694b4c",
   "metadata": {},
   "outputs": [
    {
     "data": {
      "text/plain": [
       "reg_ts        1\n",
       "uid        1061\n",
       "auth_ts     267\n",
       "dtype: int64"
      ]
     },
     "execution_count": 18,
     "metadata": {},
     "output_type": "execute_result"
    }
   ],
   "source": [
    "data.query('reg_ts == \"2020-01-01\"').nunique()"
   ]
  },
  {
   "cell_type": "code",
   "execution_count": 19,
   "id": "f5c23c86",
   "metadata": {},
   "outputs": [],
   "source": [
    "def calculate_retention(data, start_date, period):\n",
    "    \"\"\"\n",
    "    Рассчитывает Retention для пользователей на каждый день возврата относительно даты регистрации.\n",
    "\n",
    "    data: DataFrame с данными о регистрации и активности пользователей.\n",
    "    start_date: Начальная дата рассмотрения когорты.\n",
    "    period: Период в днях для расчета Retention.\n",
    "    \n",
    "    period_end_date: Устанавливаем период в днях после начальной даты.\n",
    "    data_filtered: Создаёт отфильтрованный DataFrame по нужному периоду\n",
    "    ret_df: Сгруппированный DataFrame по дням регистрации и возврата\n",
    "    \n",
    "    :return: DataFrame с Retention для каждого дня возврата.\n",
    "    \"\"\"\n",
    "    \n",
    "    period_end_date = pd.to_datetime(start_date) + pd.DateOffset(days=period)\n",
    "    data_filtered = data[(data['reg_ts'] >= start_date) & (data['auth_ts'] <= period_end_date)].copy() \n",
    "    data_filtered['return_day'] = ((data_filtered['auth_ts'] - data_filtered['reg_ts']).dt.days).clip(0, period)    \n",
    "    ret_df = data_filtered.groupby(['reg_ts', 'return_day']).size().unstack(fill_value=0)\n",
    "    cohort_sizes = ret_df.iloc[:, 0]\n",
    "    \n",
    "    for day in range(1, period + 1):\n",
    "        ret_df[day] = (ret_df[day] / cohort_sizes) * 100\n",
    "    \n",
    "    ret_df = round(ret_df, 2)\n",
    "    \n",
    "    ret_df.rename(columns={0: 'cohort_size'}, inplace=True)\n",
    "    \n",
    "    return ret_df"
   ]
  },
  {
   "cell_type": "code",
   "execution_count": 20,
   "id": "fbdf20d0",
   "metadata": {},
   "outputs": [
    {
     "name": "stdout",
     "output_type": "stream",
     "text": [
      "\n",
      "    Рассчитывает Retention для пользователей на каждый день возврата относительно даты регистрации.\n",
      "\n",
      "    data: DataFrame с данными о регистрации и активности пользователей.\n",
      "    start_date: Начальная дата рассмотрения когорты.\n",
      "    period: Период в днях для расчета Retention.\n",
      "    \n",
      "    period_end_date: Устанавливаем период в днях после начальной даты.\n",
      "    data_filtered: Создаёт отфильтрованный DataFrame по нужному периоду\n",
      "    ret_df: Сгруппированный DataFrame по дням регистрации и возврата\n",
      "    \n",
      "    :return: DataFrame с Retention для каждого дня возврата.\n",
      "    \n"
     ]
    }
   ],
   "source": [
    "docstring = calculate_retention.__doc__\n",
    "print(docstring)"
   ]
  },
  {
   "cell_type": "code",
   "execution_count": 21,
   "id": "6f49bc08",
   "metadata": {},
   "outputs": [],
   "source": [
    "# Вызов функции для расчета Retention с возможностью установки необходимого периода\n",
    "\n",
    "ret_df = calculate_retention(data, '2020-01-01', 14)"
   ]
  },
  {
   "cell_type": "code",
   "execution_count": 22,
   "id": "c7efcf74",
   "metadata": {},
   "outputs": [
    {
     "data": {
      "text/html": [
       "<div>\n",
       "<style scoped>\n",
       "    .dataframe tbody tr th:only-of-type {\n",
       "        vertical-align: middle;\n",
       "    }\n",
       "\n",
       "    .dataframe tbody tr th {\n",
       "        vertical-align: top;\n",
       "    }\n",
       "\n",
       "    .dataframe thead th {\n",
       "        text-align: right;\n",
       "    }\n",
       "</style>\n",
       "<table border=\"1\" class=\"dataframe\">\n",
       "  <thead>\n",
       "    <tr style=\"text-align: right;\">\n",
       "      <th>return_day</th>\n",
       "      <th>cohort_size</th>\n",
       "      <th>1</th>\n",
       "      <th>2</th>\n",
       "      <th>3</th>\n",
       "      <th>4</th>\n",
       "      <th>5</th>\n",
       "      <th>6</th>\n",
       "      <th>7</th>\n",
       "      <th>8</th>\n",
       "      <th>9</th>\n",
       "      <th>10</th>\n",
       "      <th>11</th>\n",
       "      <th>12</th>\n",
       "      <th>13</th>\n",
       "      <th>14</th>\n",
       "    </tr>\n",
       "    <tr>\n",
       "      <th>reg_ts</th>\n",
       "      <th></th>\n",
       "      <th></th>\n",
       "      <th></th>\n",
       "      <th></th>\n",
       "      <th></th>\n",
       "      <th></th>\n",
       "      <th></th>\n",
       "      <th></th>\n",
       "      <th></th>\n",
       "      <th></th>\n",
       "      <th></th>\n",
       "      <th></th>\n",
       "      <th></th>\n",
       "      <th></th>\n",
       "      <th></th>\n",
       "    </tr>\n",
       "  </thead>\n",
       "  <tbody>\n",
       "    <tr>\n",
       "      <th>2020-01-01</th>\n",
       "      <td>1061</td>\n",
       "      <td>2.64</td>\n",
       "      <td>4.52</td>\n",
       "      <td>3.39</td>\n",
       "      <td>5.66</td>\n",
       "      <td>5.84</td>\n",
       "      <td>7.54</td>\n",
       "      <td>5.00</td>\n",
       "      <td>4.43</td>\n",
       "      <td>4.43</td>\n",
       "      <td>5.37</td>\n",
       "      <td>6.50</td>\n",
       "      <td>4.62</td>\n",
       "      <td>4.90</td>\n",
       "      <td>4.81</td>\n",
       "    </tr>\n",
       "    <tr>\n",
       "      <th>2020-01-02</th>\n",
       "      <td>1063</td>\n",
       "      <td>2.35</td>\n",
       "      <td>4.52</td>\n",
       "      <td>5.17</td>\n",
       "      <td>4.80</td>\n",
       "      <td>5.83</td>\n",
       "      <td>7.71</td>\n",
       "      <td>5.93</td>\n",
       "      <td>5.64</td>\n",
       "      <td>5.27</td>\n",
       "      <td>5.64</td>\n",
       "      <td>5.64</td>\n",
       "      <td>4.52</td>\n",
       "      <td>4.52</td>\n",
       "      <td>0.00</td>\n",
       "    </tr>\n",
       "    <tr>\n",
       "      <th>2020-01-03</th>\n",
       "      <td>1065</td>\n",
       "      <td>2.35</td>\n",
       "      <td>3.38</td>\n",
       "      <td>4.41</td>\n",
       "      <td>4.51</td>\n",
       "      <td>6.85</td>\n",
       "      <td>7.51</td>\n",
       "      <td>5.45</td>\n",
       "      <td>4.51</td>\n",
       "      <td>4.23</td>\n",
       "      <td>5.26</td>\n",
       "      <td>5.82</td>\n",
       "      <td>5.54</td>\n",
       "      <td>0.00</td>\n",
       "      <td>0.00</td>\n",
       "    </tr>\n",
       "    <tr>\n",
       "      <th>2020-01-04</th>\n",
       "      <td>1067</td>\n",
       "      <td>1.50</td>\n",
       "      <td>4.50</td>\n",
       "      <td>5.06</td>\n",
       "      <td>5.34</td>\n",
       "      <td>5.72</td>\n",
       "      <td>7.03</td>\n",
       "      <td>5.44</td>\n",
       "      <td>4.22</td>\n",
       "      <td>4.87</td>\n",
       "      <td>4.78</td>\n",
       "      <td>5.44</td>\n",
       "      <td>0.00</td>\n",
       "      <td>0.00</td>\n",
       "      <td>0.00</td>\n",
       "    </tr>\n",
       "    <tr>\n",
       "      <th>2020-01-05</th>\n",
       "      <td>1069</td>\n",
       "      <td>1.96</td>\n",
       "      <td>4.49</td>\n",
       "      <td>4.58</td>\n",
       "      <td>4.40</td>\n",
       "      <td>4.77</td>\n",
       "      <td>7.86</td>\n",
       "      <td>5.24</td>\n",
       "      <td>3.93</td>\n",
       "      <td>5.43</td>\n",
       "      <td>4.12</td>\n",
       "      <td>0.00</td>\n",
       "      <td>0.00</td>\n",
       "      <td>0.00</td>\n",
       "      <td>0.00</td>\n",
       "    </tr>\n",
       "    <tr>\n",
       "      <th>2020-01-06</th>\n",
       "      <td>1070</td>\n",
       "      <td>2.90</td>\n",
       "      <td>4.49</td>\n",
       "      <td>4.95</td>\n",
       "      <td>3.83</td>\n",
       "      <td>4.67</td>\n",
       "      <td>6.64</td>\n",
       "      <td>5.89</td>\n",
       "      <td>5.23</td>\n",
       "      <td>5.05</td>\n",
       "      <td>0.00</td>\n",
       "      <td>0.00</td>\n",
       "      <td>0.00</td>\n",
       "      <td>0.00</td>\n",
       "      <td>0.00</td>\n",
       "    </tr>\n",
       "    <tr>\n",
       "      <th>2020-01-07</th>\n",
       "      <td>1072</td>\n",
       "      <td>1.87</td>\n",
       "      <td>4.85</td>\n",
       "      <td>4.38</td>\n",
       "      <td>6.44</td>\n",
       "      <td>5.04</td>\n",
       "      <td>8.49</td>\n",
       "      <td>5.13</td>\n",
       "      <td>5.69</td>\n",
       "      <td>0.00</td>\n",
       "      <td>0.00</td>\n",
       "      <td>0.00</td>\n",
       "      <td>0.00</td>\n",
       "      <td>0.00</td>\n",
       "      <td>0.00</td>\n",
       "    </tr>\n",
       "    <tr>\n",
       "      <th>2020-01-08</th>\n",
       "      <td>1074</td>\n",
       "      <td>2.23</td>\n",
       "      <td>4.00</td>\n",
       "      <td>4.28</td>\n",
       "      <td>5.12</td>\n",
       "      <td>5.03</td>\n",
       "      <td>8.47</td>\n",
       "      <td>5.03</td>\n",
       "      <td>0.00</td>\n",
       "      <td>0.00</td>\n",
       "      <td>0.00</td>\n",
       "      <td>0.00</td>\n",
       "      <td>0.00</td>\n",
       "      <td>0.00</td>\n",
       "      <td>0.00</td>\n",
       "    </tr>\n",
       "    <tr>\n",
       "      <th>2020-01-09</th>\n",
       "      <td>1076</td>\n",
       "      <td>1.86</td>\n",
       "      <td>4.00</td>\n",
       "      <td>5.48</td>\n",
       "      <td>4.46</td>\n",
       "      <td>6.04</td>\n",
       "      <td>6.69</td>\n",
       "      <td>0.00</td>\n",
       "      <td>0.00</td>\n",
       "      <td>0.00</td>\n",
       "      <td>0.00</td>\n",
       "      <td>0.00</td>\n",
       "      <td>0.00</td>\n",
       "      <td>0.00</td>\n",
       "      <td>0.00</td>\n",
       "    </tr>\n",
       "    <tr>\n",
       "      <th>2020-01-10</th>\n",
       "      <td>1077</td>\n",
       "      <td>1.95</td>\n",
       "      <td>3.71</td>\n",
       "      <td>5.11</td>\n",
       "      <td>4.27</td>\n",
       "      <td>5.94</td>\n",
       "      <td>0.00</td>\n",
       "      <td>0.00</td>\n",
       "      <td>0.00</td>\n",
       "      <td>0.00</td>\n",
       "      <td>0.00</td>\n",
       "      <td>0.00</td>\n",
       "      <td>0.00</td>\n",
       "      <td>0.00</td>\n",
       "      <td>0.00</td>\n",
       "    </tr>\n",
       "    <tr>\n",
       "      <th>2020-01-11</th>\n",
       "      <td>1079</td>\n",
       "      <td>1.58</td>\n",
       "      <td>3.89</td>\n",
       "      <td>5.10</td>\n",
       "      <td>5.00</td>\n",
       "      <td>0.00</td>\n",
       "      <td>0.00</td>\n",
       "      <td>0.00</td>\n",
       "      <td>0.00</td>\n",
       "      <td>0.00</td>\n",
       "      <td>0.00</td>\n",
       "      <td>0.00</td>\n",
       "      <td>0.00</td>\n",
       "      <td>0.00</td>\n",
       "      <td>0.00</td>\n",
       "    </tr>\n",
       "    <tr>\n",
       "      <th>2020-01-12</th>\n",
       "      <td>1081</td>\n",
       "      <td>1.85</td>\n",
       "      <td>4.53</td>\n",
       "      <td>4.07</td>\n",
       "      <td>0.00</td>\n",
       "      <td>0.00</td>\n",
       "      <td>0.00</td>\n",
       "      <td>0.00</td>\n",
       "      <td>0.00</td>\n",
       "      <td>0.00</td>\n",
       "      <td>0.00</td>\n",
       "      <td>0.00</td>\n",
       "      <td>0.00</td>\n",
       "      <td>0.00</td>\n",
       "      <td>0.00</td>\n",
       "    </tr>\n",
       "    <tr>\n",
       "      <th>2020-01-13</th>\n",
       "      <td>1083</td>\n",
       "      <td>1.94</td>\n",
       "      <td>4.43</td>\n",
       "      <td>0.00</td>\n",
       "      <td>0.00</td>\n",
       "      <td>0.00</td>\n",
       "      <td>0.00</td>\n",
       "      <td>0.00</td>\n",
       "      <td>0.00</td>\n",
       "      <td>0.00</td>\n",
       "      <td>0.00</td>\n",
       "      <td>0.00</td>\n",
       "      <td>0.00</td>\n",
       "      <td>0.00</td>\n",
       "      <td>0.00</td>\n",
       "    </tr>\n",
       "    <tr>\n",
       "      <th>2020-01-14</th>\n",
       "      <td>1084</td>\n",
       "      <td>1.66</td>\n",
       "      <td>0.00</td>\n",
       "      <td>0.00</td>\n",
       "      <td>0.00</td>\n",
       "      <td>0.00</td>\n",
       "      <td>0.00</td>\n",
       "      <td>0.00</td>\n",
       "      <td>0.00</td>\n",
       "      <td>0.00</td>\n",
       "      <td>0.00</td>\n",
       "      <td>0.00</td>\n",
       "      <td>0.00</td>\n",
       "      <td>0.00</td>\n",
       "      <td>0.00</td>\n",
       "    </tr>\n",
       "    <tr>\n",
       "      <th>2020-01-15</th>\n",
       "      <td>1086</td>\n",
       "      <td>0.00</td>\n",
       "      <td>0.00</td>\n",
       "      <td>0.00</td>\n",
       "      <td>0.00</td>\n",
       "      <td>0.00</td>\n",
       "      <td>0.00</td>\n",
       "      <td>0.00</td>\n",
       "      <td>0.00</td>\n",
       "      <td>0.00</td>\n",
       "      <td>0.00</td>\n",
       "      <td>0.00</td>\n",
       "      <td>0.00</td>\n",
       "      <td>0.00</td>\n",
       "      <td>0.00</td>\n",
       "    </tr>\n",
       "  </tbody>\n",
       "</table>\n",
       "</div>"
      ],
      "text/plain": [
       "return_day  cohort_size     1     2     3     4     5     6     7     8     9  \\\n",
       "reg_ts                                                                          \n",
       "2020-01-01         1061  2.64  4.52  3.39  5.66  5.84  7.54  5.00  4.43  4.43   \n",
       "2020-01-02         1063  2.35  4.52  5.17  4.80  5.83  7.71  5.93  5.64  5.27   \n",
       "2020-01-03         1065  2.35  3.38  4.41  4.51  6.85  7.51  5.45  4.51  4.23   \n",
       "2020-01-04         1067  1.50  4.50  5.06  5.34  5.72  7.03  5.44  4.22  4.87   \n",
       "2020-01-05         1069  1.96  4.49  4.58  4.40  4.77  7.86  5.24  3.93  5.43   \n",
       "2020-01-06         1070  2.90  4.49  4.95  3.83  4.67  6.64  5.89  5.23  5.05   \n",
       "2020-01-07         1072  1.87  4.85  4.38  6.44  5.04  8.49  5.13  5.69  0.00   \n",
       "2020-01-08         1074  2.23  4.00  4.28  5.12  5.03  8.47  5.03  0.00  0.00   \n",
       "2020-01-09         1076  1.86  4.00  5.48  4.46  6.04  6.69  0.00  0.00  0.00   \n",
       "2020-01-10         1077  1.95  3.71  5.11  4.27  5.94  0.00  0.00  0.00  0.00   \n",
       "2020-01-11         1079  1.58  3.89  5.10  5.00  0.00  0.00  0.00  0.00  0.00   \n",
       "2020-01-12         1081  1.85  4.53  4.07  0.00  0.00  0.00  0.00  0.00  0.00   \n",
       "2020-01-13         1083  1.94  4.43  0.00  0.00  0.00  0.00  0.00  0.00  0.00   \n",
       "2020-01-14         1084  1.66  0.00  0.00  0.00  0.00  0.00  0.00  0.00  0.00   \n",
       "2020-01-15         1086  0.00  0.00  0.00  0.00  0.00  0.00  0.00  0.00  0.00   \n",
       "\n",
       "return_day    10    11    12    13    14  \n",
       "reg_ts                                    \n",
       "2020-01-01  5.37  6.50  4.62  4.90  4.81  \n",
       "2020-01-02  5.64  5.64  4.52  4.52  0.00  \n",
       "2020-01-03  5.26  5.82  5.54  0.00  0.00  \n",
       "2020-01-04  4.78  5.44  0.00  0.00  0.00  \n",
       "2020-01-05  4.12  0.00  0.00  0.00  0.00  \n",
       "2020-01-06  0.00  0.00  0.00  0.00  0.00  \n",
       "2020-01-07  0.00  0.00  0.00  0.00  0.00  \n",
       "2020-01-08  0.00  0.00  0.00  0.00  0.00  \n",
       "2020-01-09  0.00  0.00  0.00  0.00  0.00  \n",
       "2020-01-10  0.00  0.00  0.00  0.00  0.00  \n",
       "2020-01-11  0.00  0.00  0.00  0.00  0.00  \n",
       "2020-01-12  0.00  0.00  0.00  0.00  0.00  \n",
       "2020-01-13  0.00  0.00  0.00  0.00  0.00  \n",
       "2020-01-14  0.00  0.00  0.00  0.00  0.00  \n",
       "2020-01-15  0.00  0.00  0.00  0.00  0.00  "
      ]
     },
     "execution_count": 22,
     "metadata": {},
     "output_type": "execute_result"
    }
   ],
   "source": [
    "ret_df"
   ]
  },
  {
   "cell_type": "code",
   "execution_count": 23,
   "id": "8db7a7c5",
   "metadata": {},
   "outputs": [
    {
     "data": {
      "image/png": "[encoded data removed]",
      "text/plain": [
       "<Figure size 1200x600 with 1 Axes>"
      ]
     },
     "metadata": {},
     "output_type": "display_data"
    }
   ],
   "source": [
    "# Делаем визуализацию при помощи тепловой карты\n",
    "\n",
    "plt.figure(figsize=(12, 6))\n",
    "heatmap = sns.heatmap(ret_df.iloc[:-1, 1:], annot=True, cmap='YlGnBu', fmt=\".1f\", cbar=False)\n",
    "\n",
    "date_labels = [item.get_text() for item in heatmap.get_yticklabels()]\n",
    "formatted_date_labels = [pd.to_datetime(label).strftime('%Y-%m-%d') for label in date_labels]\n",
    "heatmap.set_yticklabels(formatted_date_labels)\n",
    "\n",
    "plt.ylabel('Registration Date')\n",
    "plt.xlabel('Days after Registration') \n",
    "plt.title('Retention Heatmap')\n",
    "plt.show()"
   ]
  },
  {
   "cell_type": "code",
   "execution_count": null,
   "id": "658d6324",
   "metadata": {},
   "outputs": [],
   "source": []
  }
 ],
 "metadata": {
  "kernelspec": {
   "display_name": "Python 3 (ipykernel)",
   "language": "python",
   "name": "python3"
  },
  "language_info": {
   "codemirror_mode": {
    "name": "ipython",
    "version": 3
   },
   "file_extension": ".py",
   "mimetype": "text/x-python",
   "name": "python",
   "nbconvert_exporter": "python",
   "pygments_lexer": "ipython3",
   "version": "3.9.13"
  }
 },
 "nbformat": 4,
 "nbformat_minor": 5
}
